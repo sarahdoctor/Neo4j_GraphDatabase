{
 "cells": [
  {
   "cell_type": "markdown",
   "id": "4c4f8e2b-19d7-4134-998d-dc5c9b1b9190",
   "metadata": {},
   "source": [
    "# Assignment 4: Neo4j Graph Database"
   ]
  },
  {
   "cell_type": "markdown",
   "id": "bc46b339-bc02-48bc-b8f3-852ed5a746de",
   "metadata": {},
   "source": [
    "### Step 1 - Download and Install Neo4j Desktop, Set Up Project Database"
   ]
  },
  {
   "cell_type": "code",
   "execution_count": 20,
   "id": "5bd6542b-c58f-4cdb-a114-d45a33e3cdc2",
   "metadata": {},
   "outputs": [
    {
     "name": "stdout",
     "output_type": "stream",
     "text": [
      "Requirement already satisfied: tomlkit in /Users/sarahdoctor/opt/anaconda3/lib/python3.8/site-packages (0.12.4)\n",
      "Requirement already satisfied: neo4j in /Users/sarahdoctor/opt/anaconda3/lib/python3.8/site-packages (5.18.0)\n",
      "Requirement already satisfied: pytz in /Users/sarahdoctor/opt/anaconda3/lib/python3.8/site-packages (from neo4j) (2021.1)\n"
     ]
    }
   ],
   "source": [
    "!pip3 install tomlkit\n",
    "!pip3 install -U neo4j"
   ]
  },
  {
   "cell_type": "code",
   "execution_count": 21,
   "id": "8718fc8e-c2b4-4370-bdea-2a9ddc3f5c8c",
   "metadata": {},
   "outputs": [
    {
     "name": "stdout",
     "output_type": "stream",
     "text": [
      "Successfully connected to Neo4j!\n"
     ]
    }
   ],
   "source": [
    "from neo4j import GraphDatabase\n",
    "\n",
    "database_name = \"apan5400\"\n",
    "username = \"neo4j\"\n",
    "password = \"apan5400\"\n",
    "uri = \"bolt://localhost:7687/\" + database_name\n",
    "\n",
    "driver = GraphDatabase.driver(uri, auth=(username, password))\n",
    "session = driver.session()\n",
    "\n",
    "print(\"Successfully connected to Neo4j!\")"
   ]
  },
  {
   "cell_type": "markdown",
   "id": "6363a5fd-1600-4364-8db1-c03fce87a266",
   "metadata": {},
   "source": [
    "#### Delete All Nodes and Relationships"
   ]
  },
  {
   "cell_type": "code",
   "execution_count": 22,
   "id": "9c6e911c-7634-4077-a563-ce98275dd526",
   "metadata": {},
   "outputs": [
    {
     "name": "stdout",
     "output_type": "stream",
     "text": [
      "All Nodes and relationships are deleted!\n"
     ]
    }
   ],
   "source": [
    "query_delete = (\"MATCH (n) OPTIONAL MATCH (n)-[r]-() DELETE n,r\")\n",
    "result_delete = session.run(query_delete)\n",
    "print(\"All Nodes and relationships are deleted!\")"
   ]
  },
  {
   "cell_type": "markdown",
   "id": "b0d8a09e-f3df-4f21-8a7a-c87cf43bd574",
   "metadata": {},
   "source": [
    "### Step 2 - Populate Graph Database"
   ]
  },
  {
   "cell_type": "code",
   "execution_count": 23,
   "id": "0aa1206e-e132-4640-8ad1-30956f628b1c",
   "metadata": {},
   "outputs": [
    {
     "name": "stdout",
     "output_type": "stream",
     "text": [
      "file:////Users/sarahdoctor/Desktop/DataManagement/companies.csv\n"
     ]
    }
   ],
   "source": [
    "import os\n",
    "import urllib\n",
    "\n",
    "datapath = os.path.abspath(\"companies.csv\")\n",
    "print(\"file:///{0}\".format(datapath))"
   ]
  },
  {
   "cell_type": "markdown",
   "id": "0a961d95-b837-4dc7-be69-94405ef4119d",
   "metadata": {},
   "source": [
    "#### Import csv to neo4j database"
   ]
  },
  {
   "cell_type": "code",
   "execution_count": 24,
   "id": "2d60ea44-79c9-4ffa-a25c-b16a4344ec99",
   "metadata": {},
   "outputs": [
    {
     "name": "stdout",
     "output_type": "stream",
     "text": [
      "All companies were imported from the CSV file!\n"
     ]
    }
   ],
   "source": [
    "companies = (\n",
    "    \"LOAD CSV WITH HEADERS FROM 'file:///{datapath}' AS line \"\n",
    "    \"CREATE (company:Company {{name: line.company, employees: toInteger(line.employees), year: toInteger(line.founded), revenue: toFloat(line.revenue)}}) \"\n",
    "    \n",
    "    \"MERGE  (city:City {{name: line.city}}) \"\n",
    "    \"MERGE  (state:State {{name: COALESCE(line.state, 'NA')}}) \" \n",
    "    \"MERGE  (country:Country {{name: line.country}}) \"\n",
    "    \n",
    "    \"CREATE (company)-[:HEADQUARTERED_IN]->(city) \"\n",
    "    \"CREATE (city)-[:LOCATED_IN]->(state) \"\n",
    "    \"CREATE (state)-[:PART_OF]->(country)\"\n",
    ").format(datapath=datapath)\n",
    "\n",
    "result = session.run(companies)\n",
    "print(\"All companies were imported from the CSV file!\")"
   ]
  },
  {
   "cell_type": "markdown",
   "id": "b40e0a16-551e-41dc-91c8-f93c65ddc249",
   "metadata": {},
   "source": [
    "### Step 3 - Build and run Python Cypher queries against Neo4j:"
   ]
  },
  {
   "cell_type": "markdown",
   "id": "dac2b9ab-f173-4f07-accb-d0bf8c4837d2",
   "metadata": {},
   "source": [
    "#### 1) Which companies are located in the state of California (via 2nd degree relation)?"
   ]
  },
  {
   "cell_type": "code",
   "execution_count": 25,
   "id": "d1f3aafd-18b9-4bfc-838a-484d873fdcf4",
   "metadata": {},
   "outputs": [],
   "source": [
    "query1 = (\"MATCH (state:State {name: 'California'})-[*1..2]-(company:Company) \\\n",
    "          RETURN DISTINCT company.name as companies\")\n",
    "result1 = session.run(query1)\n",
    "answer1 = [record[\"companies\"] for record in result1]"
   ]
  },
  {
   "cell_type": "code",
   "execution_count": 26,
   "id": "a3650665-d17a-425e-a385-77527047f5a0",
   "metadata": {},
   "outputs": [
    {
     "name": "stdout",
     "output_type": "stream",
     "text": [
      "\n",
      "The companies that are located in California (via 2nd degree relation):\n",
      "Apple\n",
      "Alphabet\n"
     ]
    }
   ],
   "source": [
    "print('\\nThe companies that are located in California (via 2nd degree relation):')\n",
    "for company_name in answer1:\n",
    "    print(company_name)"
   ]
  },
  {
   "cell_type": "markdown",
   "id": "0d454d47-1e67-47a2-925f-e0878651b28f",
   "metadata": {},
   "source": [
    "#### 2) Which companies have been founded in the last quarter of the 20th century [1975-2000]? "
   ]
  },
  {
   "cell_type": "code",
   "execution_count": 27,
   "id": "13f6ee86-14cc-48ce-b8ce-304a5b13777b",
   "metadata": {},
   "outputs": [],
   "source": [
    "query2 = (\n",
    "    \"\"\"\n",
    "    MATCH (company:Company)\n",
    "    WHERE company.year >= 1975 AND company.year <= 2000\n",
    "    RETURN company.name, company.year\n",
    "    ORDER BY company.year\n",
    "    \"\"\"\n",
    ")\n",
    "result2 = session.run(query2)\n",
    "answer2 = [{\"company.name\": record[\"company.name\"], \n",
    "            \"company.year\": record[\"company.year\"]} for record in result2]"
   ]
  },
  {
   "cell_type": "code",
   "execution_count": 28,
   "id": "2d969bef-df0e-49c6-833f-04099c49fa0f",
   "metadata": {},
   "outputs": [
    {
     "name": "stdout",
     "output_type": "stream",
     "text": [
      "\n",
      "The companies founded in the last quarter of the 20th century:\n",
      "Microsoft, founded in 1975\n",
      "Apple, founded in 1976\n",
      "China National Petroleum Corporation, founded in 1988\n",
      "Amazon, founded in 1994\n",
      "Alphabet, founded in 1998\n",
      "Alibaba Group, founded in 1999\n"
     ]
    }
   ],
   "source": [
    "print(\"\\nThe companies founded in the last quarter of the 20th century:\")\n",
    "for result in answer2:\n",
    "    print(f\"{result['company.name']}, founded in {result['company.year']}\")"
   ]
  },
  {
   "cell_type": "markdown",
   "id": "8befbab8-8805-49be-b55e-713262bd1113",
   "metadata": {},
   "source": [
    "#### 3) What is the average annual revenue for all companies in the USA?"
   ]
  },
  {
   "cell_type": "code",
   "execution_count": 29,
   "id": "c49d76db-e4dc-42ed-a22d-6274212abb75",
   "metadata": {},
   "outputs": [],
   "source": [
    "query3 = (\n",
    "    \"\"\"\n",
    "    MATCH (company:Company)-[*1..3]-(country:Country {name: 'USA'})\n",
    "    WITH DISTINCT company \n",
    "    RETURN avg(company.revenue) as avg_revenue\n",
    "    \"\"\"\n",
    ")\n",
    "result3 = session.run(query3)\n",
    "answer3 = [record[\"avg_revenue\"] for record in result3]"
   ]
  },
  {
   "cell_type": "code",
   "execution_count": 30,
   "id": "8317f0bc-08df-45d7-99a5-48c7e33c7b30",
   "metadata": {},
   "outputs": [
    {
     "name": "stdout",
     "output_type": "stream",
     "text": [
      "\n",
      "The average annual revenue for all USA companies is 294.176 billion\n"
     ]
    }
   ],
   "source": [
    "for result in answer3:\n",
    "    print(f\"\\nThe average annual revenue for all USA companies is {result} billion\")"
   ]
  },
  {
   "cell_type": "markdown",
   "id": "3b0206cc-b09d-4064-b10f-8f70fbc88c55",
   "metadata": {},
   "source": [
    "#### 4) Which companies are headquartered in Japan (via 3rd degree relation)?"
   ]
  },
  {
   "cell_type": "code",
   "execution_count": 31,
   "id": "35f3bb6c-5c82-4f63-80a7-b0892e654fbf",
   "metadata": {},
   "outputs": [],
   "source": [
    "query4 = (\n",
    "    \"\"\"\n",
    "    MATCH (country:Country {name: 'Japan'})-[*1..3]-(company:Company) \n",
    "    RETURN DISTINCT company.name as companies\n",
    "    \"\"\"\n",
    ")\n",
    "result4 = session.run(query4)\n",
    "answer4 = [record[\"companies\"] for record in result4]"
   ]
  },
  {
   "cell_type": "code",
   "execution_count": 32,
   "id": "f69ae769-837a-4b6a-a7b2-cf7552337ce4",
   "metadata": {},
   "outputs": [
    {
     "name": "stdout",
     "output_type": "stream",
     "text": [
      "\n",
      "The companies that are headquartered in Japan (via 3rd degree relation):\n",
      "Sony Group\n",
      "Toyota Motor\n"
     ]
    }
   ],
   "source": [
    "print('\\nThe companies that are headquartered in Japan (via 3rd degree relation):')\n",
    "for company_name in answer4:\n",
    "    print(company_name)"
   ]
  },
  {
   "cell_type": "markdown",
   "id": "d87a21bc-d885-4ae7-869e-a8628bd51f4e",
   "metadata": {},
   "source": [
    "#### 5) What is the total number of employees of all companies in the USA and Germany (via 3rd degree relation)?"
   ]
  },
  {
   "cell_type": "code",
   "execution_count": 33,
   "id": "17c99eaf-d774-4182-a6de-74121c3067aa",
   "metadata": {},
   "outputs": [],
   "source": [
    "query5 = (\n",
    "    \"\"\"\n",
    "    MATCH (company:Company)-[*1..3]-(country:Country)\n",
    "    WHERE country.name IN ['USA','Germany']\n",
    "    WITH DISTINCT company\n",
    "    RETURN sum(company.employees) as total_employees\n",
    "    \"\"\"\n",
    ")\n",
    "\n",
    "result5 = session.run(query5)\n",
    "answer5 = [record[\"total_employees\"] for record in result5]"
   ]
  },
  {
   "cell_type": "code",
   "execution_count": 34,
   "id": "0ff5a02e-4837-4035-9d0b-2d845ed28911",
   "metadata": {},
   "outputs": [
    {
     "name": "stdout",
     "output_type": "stream",
     "text": [
      "\n",
      "The total number of employees for all USA and Germany companies is 2571925\n"
     ]
    }
   ],
   "source": [
    "for result in answer5:\n",
    "    print(f\"\\nThe total number of employees for all USA and Germany companies is {result}\")"
   ]
  },
  {
   "cell_type": "markdown",
   "id": "2c0aa4c3-abc4-4b20-a51d-fea271d87d1f",
   "metadata": {},
   "source": [
    "#### Delete All Nodes and Relationships"
   ]
  },
  {
   "cell_type": "code",
   "execution_count": 36,
   "id": "03095dfa-b724-42f3-9cc4-a66f94ad6968",
   "metadata": {},
   "outputs": [
    {
     "name": "stdout",
     "output_type": "stream",
     "text": [
      "All Nodes and relationships are deleted!\n"
     ]
    }
   ],
   "source": [
    "query_delete = (\"MATCH (n) OPTIONAL MATCH (n)-[r]-() DELETE n,r\")\n",
    "result_delete = session.run(query_delete)\n",
    "print(\"All Nodes and relationships are deleted!\")"
   ]
  }
 ],
 "metadata": {
  "kernelspec": {
   "display_name": "Python 3",
   "language": "python",
   "name": "python3"
  },
  "language_info": {
   "codemirror_mode": {
    "name": "ipython",
    "version": 3
   },
   "file_extension": ".py",
   "mimetype": "text/x-python",
   "name": "python",
   "nbconvert_exporter": "python",
   "pygments_lexer": "ipython3",
   "version": "3.8.8"
  }
 },
 "nbformat": 4,
 "nbformat_minor": 5
}
